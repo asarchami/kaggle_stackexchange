{
 "cells": [
  {
   "cell_type": "code",
   "execution_count": 1,
   "metadata": {
    "collapsed": true
   },
   "outputs": [],
   "source": [
    "import pandas as pd\n",
    "from kaggle import data, nlp"
   ]
  },
  {
   "cell_type": "code",
   "execution_count": 2,
   "metadata": {
    "collapsed": true
   },
   "outputs": [],
   "source": [
    "csv = data.get_data()"
   ]
  },
  {
   "cell_type": "code",
   "execution_count": 3,
   "metadata": {
    "collapsed": false
   },
   "outputs": [
    {
     "data": {
      "text/html": [
       "<div>\n",
       "<table border=\"1\" class=\"dataframe\">\n",
       "  <thead>\n",
       "    <tr style=\"text-align: right;\">\n",
       "      <th></th>\n",
       "      <th>title</th>\n",
       "      <th>content</th>\n",
       "      <th>tags</th>\n",
       "      <th>file_name</th>\n",
       "    </tr>\n",
       "  </thead>\n",
       "  <tbody>\n",
       "    <tr>\n",
       "      <th>0</th>\n",
       "      <td>How can I get chewy chocolate chip cookies?</td>\n",
       "      <td>My chocolate chips cookies are always too cris...</td>\n",
       "      <td>baking cookies texture</td>\n",
       "      <td>cooking</td>\n",
       "    </tr>\n",
       "    <tr>\n",
       "      <th>1</th>\n",
       "      <td>How should I cook bacon in an oven?</td>\n",
       "      <td>I've heard of people cooking bacon in an oven ...</td>\n",
       "      <td>oven cooking-time bacon</td>\n",
       "      <td>cooking</td>\n",
       "    </tr>\n",
       "    <tr>\n",
       "      <th>2</th>\n",
       "      <td>What is the difference between white and brown...</td>\n",
       "      <td>I always use brown extra large eggs, but I can...</td>\n",
       "      <td>eggs</td>\n",
       "      <td>cooking</td>\n",
       "    </tr>\n",
       "    <tr>\n",
       "      <th>3</th>\n",
       "      <td>What is the difference between baking soda and...</td>\n",
       "      <td>And can I use one in place of the other in cer...</td>\n",
       "      <td>substitutions please-remove-this-tag baking-so...</td>\n",
       "      <td>cooking</td>\n",
       "    </tr>\n",
       "    <tr>\n",
       "      <th>4</th>\n",
       "      <td>In a tomato sauce recipe, how can I cut the ac...</td>\n",
       "      <td>It seems that every time I make a tomato sauce...</td>\n",
       "      <td>sauce pasta tomatoes italian-cuisine</td>\n",
       "      <td>cooking</td>\n",
       "    </tr>\n",
       "  </tbody>\n",
       "</table>\n",
       "</div>"
      ],
      "text/plain": [
       "                                               title  \\\n",
       "0        How can I get chewy chocolate chip cookies?   \n",
       "1                How should I cook bacon in an oven?   \n",
       "2  What is the difference between white and brown...   \n",
       "3  What is the difference between baking soda and...   \n",
       "4  In a tomato sauce recipe, how can I cut the ac...   \n",
       "\n",
       "                                             content  \\\n",
       "0  My chocolate chips cookies are always too cris...   \n",
       "1  I've heard of people cooking bacon in an oven ...   \n",
       "2  I always use brown extra large eggs, but I can...   \n",
       "3  And can I use one in place of the other in cer...   \n",
       "4  It seems that every time I make a tomato sauce...   \n",
       "\n",
       "                                                tags file_name  \n",
       "0                             baking cookies texture   cooking  \n",
       "1                            oven cooking-time bacon   cooking  \n",
       "2                                               eggs   cooking  \n",
       "3  substitutions please-remove-this-tag baking-so...   cooking  \n",
       "4               sauce pasta tomatoes italian-cuisine   cooking  "
      ]
     },
     "execution_count": 3,
     "metadata": {},
     "output_type": "execute_result"
    }
   ],
   "source": [
    "csv.head()"
   ]
  },
  {
   "cell_type": "markdown",
   "metadata": {},
   "source": [
    "- CC\tcoordinating conjunction\n",
    "- CD\tcardinal digit\n",
    "- DT\tdeterminer\n",
    "- EX\texistential there (like: \"there is\" ... think of it like \"there exists\")\n",
    "- FW\tforeign word\n",
    "- IN\tpreposition/subordinating conjunction\n",
    "- JJ\tadjective\t'big'\n",
    "- JJR\tadjective, comparative\t'bigger'\n",
    "- JJS\tadjective, superlative\t'biggest'\n",
    "- LS\tlist marker\t1)\n",
    "- MD\tmodal\tcould, will\n",
    "- NN\tnoun, singular 'desk'\n",
    "- NNS\tnoun plural\t'desks'\n",
    "- NNP\tproper noun, singular\t'Harrison'\n",
    "- NNPS\tproper noun, plural\t'Americans'\n",
    "- PDT\tpredeterminer\t'all the kids'\n",
    "- POS\tpossessive ending\tparent's\n",
    "- PRP\tpersonal pronoun\tI, he, she\n",
    "- PRPS\tpossessive pronoun\tmy, his, hers\n",
    "- RB\tadverb\tvery, silently,\n",
    "- RBR\tadverb, comparative\tbetter\n",
    "- RBS\tadverb, superlative\tbest\n",
    "- RP\tparticle\tgive up\n",
    "- TO\tto\tgo 'to' the store.\n",
    "- UH\tinterjection\terrrrrrrrm\n",
    "- VB\tverb, base form\ttake\n",
    "- VBD\tverb, past tense\ttook\n",
    "- VBG\tverb, gerund/present participle\ttaking\n",
    "- VBN\tverb, past participle\ttaken\n",
    "- VBP\tverb, sing. present, non-3d\ttake\n",
    "- VBZ\tverb, 3rd person sing. present\ttakes\n",
    "- WDT\twh-determiner\twhich\n",
    "- WP\twh-pronoun\twho, what\n",
    "- WPS\tpossessive wh-pronoun\twhose\n",
    "- WRB\twh-abverb\twhere, when"
   ]
  },
  {
   "cell_type": "code",
   "execution_count": null,
   "metadata": {
    "collapsed": true
   },
   "outputs": [],
   "source": [
    "title1 = csv.iloc[0, 0]\n",
    "title2 = csv.iloc[1, 0]\n",
    "title3 = csv.iloc[2, 0]\n",
    "\n",
    "sentence1 = csv.iloc[0, 1]\n",
    "sentence2 = csv.iloc[1, 1]\n",
    "sentence3 = csv.iloc[2, 1]\n",
    "\n",
    "tags1 = csv.iloc[0, 2]\n",
    "tags2 = csv.iloc[1, 2]\n",
    "tags3 = csv.iloc[2, 2]"
   ]
  },
  {
   "cell_type": "code",
   "execution_count": null,
   "metadata": {
    "collapsed": true
   },
   "outputs": [],
   "source": [
    "with open(\"kaggle/long_stopwords.txt\") as f:\n",
    "    stopwords = [word for line in f for word in line.split()]"
   ]
  },
  {
   "cell_type": "code",
   "execution_count": null,
   "metadata": {
    "collapsed": true
   },
   "outputs": [],
   "source": [
    "trees = nlp.process_content(\" \".join([sentence1, title1]), stopwords)\n",
    "print title1, \"\\n\"\n",
    "print sentence1, \"\\n\"\n",
    "print tags1\n",
    "trees"
   ]
  },
  {
   "cell_type": "code",
   "execution_count": null,
   "metadata": {
    "collapsed": true
   },
   "outputs": [],
   "source": [
    "trees = nlp.process_content(\" \".join([sentence2, title2]), stopwords)\n",
    "print title2, \"\\n\"\n",
    "print sentence2, \"\\n\"\n",
    "print tags2\n",
    "trees"
   ]
  },
  {
   "cell_type": "code",
   "execution_count": null,
   "metadata": {
    "collapsed": true
   },
   "outputs": [],
   "source": [
    "trees = nlp.process_content(\" \".join([sentence3, title3]), stopwords)\n",
    "print title3, \"\\n\"\n",
    "print sentence3, \"\\n\"\n",
    "print tags3\n",
    "trees"
   ]
  },
  {
   "cell_type": "code",
   "execution_count": null,
   "metadata": {
    "collapsed": true
   },
   "outputs": [],
   "source": []
  },
  {
   "cell_type": "code",
   "execution_count": null,
   "metadata": {
    "collapsed": true
   },
   "outputs": [],
   "source": []
  }
 ],
 "metadata": {
  "anaconda-cloud": {},
  "kernelspec": {
   "display_name": "Python [default]",
   "language": "python",
   "name": "python2"
  },
  "language_info": {
   "codemirror_mode": {
    "name": "ipython",
    "version": 2
   },
   "file_extension": ".py",
   "mimetype": "text/x-python",
   "name": "python",
   "nbconvert_exporter": "python",
   "pygments_lexer": "ipython2",
   "version": "2.7.12"
  }
 },
 "nbformat": 4,
 "nbformat_minor": 1
}
